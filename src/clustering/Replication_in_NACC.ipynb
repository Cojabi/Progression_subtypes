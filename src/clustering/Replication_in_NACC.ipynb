{
 "cells": [
  {
   "cell_type": "markdown",
   "id": "eed26a82",
   "metadata": {},
   "source": [
    "Checking if the replication of the clusters with NACC as the initial training cohort yielded comparable results to the ADNI-based approach."
   ]
  },
  {
   "cell_type": "code",
   "execution_count": null,
   "id": "64158cc3-fd67-4d10-9a1d-cd8a24205c6d",
   "metadata": {},
   "outputs": [],
   "source": [
    "import pandas as pd\n",
    "import glob\n",
    "import numpy as np\n",
    "from sklearn.metrics import accuracy_score"
   ]
  },
  {
   "cell_type": "code",
   "execution_count": null,
   "id": "115e918b-6651-4ea2-a5bc-e6055042c1db",
   "metadata": {},
   "outputs": [],
   "source": [
    "# ADNI param 2; fast = 1\n",
    "adni_train = pd.read_csv(glob.glob(\"\")[0], index_col=0)\n",
    "nacc_test = pd.read_csv(\"\", index_col=0)\n",
    "\n",
    "# NACC param 1; fast = 2\n",
    "nacc_train = pd.read_csv(glob.glob(\"\")[0], index_col=0)\n",
    "adni_test = pd.read_csv(\"\", index_col=0)\n",
    "# make cluster label 1=fast; 2=slow\n",
    "nacc_train.replace([2, 1], [1, 2], inplace=True)\n",
    "adni_test.replace([2, 1], [1, 2], inplace=True)"
   ]
  },
  {
   "cell_type": "code",
   "execution_count": null,
   "id": "2d7f8ffc-6dda-43ea-b151-355f0c7639bd",
   "metadata": {},
   "outputs": [],
   "source": [
    "adni = adni_train.join(adni_test)\n",
    "nacc = nacc_train.join(nacc_test)"
   ]
  },
  {
   "cell_type": "markdown",
   "id": "69e9b0dc-ab49-4ffb-bea5-f66c76f199e7",
   "metadata": {},
   "source": [
    "### Calculate accuracy as a measure of cluster overlap"
   ]
  },
  {
   "cell_type": "code",
   "execution_count": null,
   "id": "6f96c65b-bd78-4822-b049-e73edcec53e0",
   "metadata": {},
   "outputs": [],
   "source": [
    "accuracy_score(adni[\"Cluster\"], adni[\"0\"])"
   ]
  },
  {
   "cell_type": "code",
   "execution_count": null,
   "id": "41bbc408-a3ed-4b8b-9701-5ef8b427899c",
   "metadata": {},
   "outputs": [],
   "source": [
    "accuracy_score(nacc[\"Cluster\"], nacc[\"0\"])"
   ]
  }
 ],
 "metadata": {
  "kernelspec": {
   "display_name": "Python 3 (ipykernel)",
   "language": "python",
   "name": "python3"
  },
  "language_info": {
   "codemirror_mode": {
    "name": "ipython",
    "version": 3
   },
   "file_extension": ".py",
   "mimetype": "text/x-python",
   "name": "python",
   "nbconvert_exporter": "python",
   "pygments_lexer": "ipython3",
   "version": "3.10.12"
  }
 },
 "nbformat": 4,
 "nbformat_minor": 5
}
