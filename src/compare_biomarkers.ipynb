{
 "cells": [
  {
   "cell_type": "markdown",
   "id": "7a5a6395",
   "metadata": {},
   "source": [
    "Investigating whether significant differences in AD biomarkers exist between fast and slow progressors."
   ]
  },
  {
   "cell_type": "code",
   "execution_count": null,
   "id": "3e7aa8a5-d450-4ba7-890d-ce39bbd7aedf",
   "metadata": {},
   "outputs": [],
   "source": [
    "import pandas as pd\n",
    "import numpy as np\n",
    "import os\n",
    "from scipy.stats import chi2_contingency, mannwhitneyu\n",
    "import statsmodels.stats.api as sms"
   ]
  },
  {
   "cell_type": "markdown",
   "id": "8e4dc2e6-d9b1-4156-818f-b0769a494673",
   "metadata": {},
   "source": [
    "### ADNI data prep"
   ]
  },
  {
   "cell_type": "code",
   "execution_count": null,
   "id": "98649c2e-adcd-4d6f-80bd-240d8dfd5696",
   "metadata": {},
   "outputs": [],
   "source": [
    "adni = pd.read_csv(\"\", index_col=0)\n",
    "a_labels = pd.read_csv(\"\", index_col=0)\n",
    "\n",
    "adni = a_labels.join(adni)"
   ]
  },
  {
   "cell_type": "markdown",
   "id": "423f85c9-9e52-472d-8796-1ea92442b2b0",
   "metadata": {},
   "source": [
    "### NACC data prep"
   ]
  },
  {
   "cell_type": "code",
   "execution_count": null,
   "id": "09d531cc-10e1-47e9-8c5d-86479299a73a",
   "metadata": {},
   "outputs": [],
   "source": [
    "n_labels = pd.read_csv(\"\", index_col=0).rename(columns={\"0\":\"Cluster\"})"
   ]
  },
  {
   "cell_type": "code",
   "execution_count": null,
   "id": "55ec160e-f1d1-41fd-9995-5e0315205d00",
   "metadata": {},
   "outputs": [],
   "source": [
    "nacc = pd.read_csv(\"\", index_col=0)"
   ]
  },
  {
   "cell_type": "code",
   "execution_count": null,
   "id": "e9015433-c75a-49c1-8438-b658f9661de7",
   "metadata": {},
   "outputs": [],
   "source": [
    "nacc_feats = [\"CSFABETA\", \"CSFPTAU\", \"CSFTTAU\", \"AMYLPET\"]\n",
    "nacc_reduced = nacc[nacc_feats].copy()\n",
    "nacc_reduced[\"AMYLPET\"].replace(8, np.nan, inplace=True)\n",
    "nacc_reduced = nacc[[\"NACCVNUM\"]+nacc_feats]\n",
    "nacc_reduced = nacc_reduced[nacc_reduced[\"NACCVNUM\"]==1]\n",
    "nacc_reduced[\"AMYLPET\"].replace(8, np.nan, inplace=True)\n",
    "nacc_reduced.dropna(how=\"all\", subset=nacc_feats, inplace=True)\n",
    "\n",
    "nacc_joined = n_labels.join(nacc_reduced)\n",
    "nacc_joined.dropna(how=\"all\", subset=nacc_feats, inplace=True)"
   ]
  },
  {
   "cell_type": "code",
   "execution_count": null,
   "id": "2c6c6115-409f-46c7-b235-a6f2d1d751b9",
   "metadata": {},
   "outputs": [],
   "source": [
    "# test for biomarker difference in ADNI\n",
    "fast = adni[adni[\"Cluster\"]==1][::]\n",
    "slow = adni[adni[\"Cluster\"]==2][::]\n",
    "\n",
    "print(\"ADNI\")\n",
    "for feat in [\"ABETA\", \"AV45\", \"TAU\"]:\n",
    "    print(f\"{feat}: {mannwhitneyu(fast[feat].dropna(), slow[feat].dropna())}\")\n",
    "    # diff in means\n",
    "    a = sms.DescrStatsW(slow[feat].dropna())\n",
    "    b = sms.DescrStatsW(fast[feat].dropna())\n",
    "    diff = a.mean - b.mean\n",
    "    cm = sms.CompareMeans(b, a)\n",
    "    print(f\"Diff in means: {np.round(diff, 2)} {str(np.round(cm.tconfint_diff(), 2)).replace('  ', ', ')}\")\n",
    "    \n",
    "# test for biomarker difference in ADNI\n",
    "fast = nacc_joined[nacc_joined[\"Cluster\"]==1][::]\n",
    "slow = nacc_joined[nacc_joined[\"Cluster\"]==2][::]\n",
    "print(\"\\nNACC\")\n",
    "for feat in [\"CSFABETA\", \"CSFPTAU\", \"CSFTTAU\"]:\n",
    "    print(f\"{feat}: {mannwhitneyu(fast[feat].dropna(), slow[feat].dropna())}\")\n",
    "    # diff in means\n",
    "    a = sms.DescrStatsW(slow[feat].dropna())\n",
    "    b = sms.DescrStatsW(fast[feat].dropna())\n",
    "    diff = a.mean - b.mean\n",
    "    cm = sms.CompareMeans(b, a)\n",
    "    print(f\"Diff in means: {np.round(diff, 2)} {str(np.round(cm.tconfint_diff(), 2)).replace('  ', ', ')}\")\n",
    "\n",
    "# categorical AMYLPET for NACC\n",
    "cr_table = pd.crosstab(nacc_joined[\"Cluster\"], nacc_joined[\"AMYLPET\"])\n",
    "print(f\"AMYLPET: {chi2_contingency(cr_table)[1]}\")"
   ]
  },
  {
   "cell_type": "code",
   "execution_count": null,
   "id": "67d5db88-4229-4174-b8b3-26b971623571",
   "metadata": {},
   "outputs": [],
   "source": [
    "cr_table = pd.crosstab(nacc_joined[\"Cluster\"], nacc_joined[\"AMYLPET\"])"
   ]
  }
 ],
 "metadata": {
  "kernelspec": {
   "display_name": "Python 3 (ipykernel)",
   "language": "python",
   "name": "python3"
  },
  "language_info": {
   "codemirror_mode": {
    "name": "ipython",
    "version": 3
   },
   "file_extension": ".py",
   "mimetype": "text/x-python",
   "name": "python",
   "nbconvert_exporter": "python",
   "pygments_lexer": "ipython3",
   "version": "3.10.12"
  }
 },
 "nbformat": 4,
 "nbformat_minor": 5
}
