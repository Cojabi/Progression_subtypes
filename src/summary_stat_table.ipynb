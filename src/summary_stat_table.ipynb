{
 "cells": [
  {
   "cell_type": "markdown",
   "id": "b47c5352-85ef-4e92-bfa7-b8aeab07732c",
   "metadata": {},
   "source": [
    "Generating summary statistics for ADNI and NACC, including Table 1 in the manuscript."
   ]
  },
  {
   "cell_type": "code",
   "execution_count": null,
   "id": "aab7d0cf-f073-48a7-8ffd-ab60b6b317ee",
   "metadata": {},
   "outputs": [],
   "source": [
    "import pandas as pd\n",
    "import numpy as np\n",
    "import os\n",
    "from scipy.stats import chi2_contingency, mannwhitneyu\n",
    "import statsmodels.stats.api as sms"
   ]
  },
  {
   "cell_type": "markdown",
   "id": "463b21a5-a52c-45d7-af9a-1f0229a67836",
   "metadata": {},
   "source": [
    "## ADNI"
   ]
  },
  {
   "cell_type": "code",
   "execution_count": null,
   "id": "d2d57692-8198-463d-9e47-9336436d4571",
   "metadata": {},
   "outputs": [],
   "source": [
    "adni = pd.read_csv(\"\", index_col=0)\n",
    "a_labels = pd.read_csv(\"\", index_col=0)\n",
    "\n",
    "adni = a_labels.join(adni)"
   ]
  },
  {
   "cell_type": "code",
   "execution_count": null,
   "id": "cc6b8b57-e529-429b-a137-e532be4e1fff",
   "metadata": {},
   "outputs": [],
   "source": [
    "num_feats = [\"MMSE\", \"FAQ\", \"CDRSB\", \"AGE\", \"PTEDUCAT\"]\n",
    "cat_feats = [\"APOE4\", \"PTGENDER_Male\"]"
   ]
  },
  {
   "cell_type": "code",
   "execution_count": null,
   "id": "b6c07578-f30a-4d32-b874-0d120e745d66",
   "metadata": {},
   "outputs": [],
   "source": [
    "sumstats = pd.DataFrame(index=[\"Slow\", \"Fast\"], columns=[\"N\"] + num_feats)\n",
    "fast = adni[adni[\"Cluster\"]==1][::]\n",
    "slow = adni[adni[\"Cluster\"]==2][::]\n",
    "\n",
    "# fill table\n",
    "sumstats.loc[\"Fast\", \"N\"] = fast.shape[0]\n",
    "sumstats.loc[\"Slow\", \"N\"] = slow.shape[0]\n",
    "\n",
    "sumstats.loc[\"Fast\", num_feats] = fast[num_feats].mean().round(2).map(str) + \" ± \" + fast[num_feats].std().round(2).map(str)\n",
    "sumstats.loc[\"Slow\", num_feats] = slow[num_feats].mean().round(2).map(str) + \" ± \" + slow[num_feats].std().round(2).map(str)\n",
    "\n",
    "# cats\n",
    "propS = len(slow[slow[\"APOE4\"]!=0]) / len(slow)\n",
    "propF = len(fast[fast[\"APOE4\"]!=0]) / len(fast)\n",
    "sumstats.loc[\"Slow\", \"APOE4\"] = np.round(len(slow[slow[\"APOE4\"]!=0]) / len(slow) *100, 2)\n",
    "sumstats.loc[\"Fast\", \"APOE4\"] = np.round(len(fast[fast[\"APOE4\"]!=0]) / len(fast) *100, 2)\n",
    "sumstats.loc[\"Difference [95% CI]\", \"APOE4\"] = f\"{np.round((propF-propS)*100, 2)} \" + str(np.round(np.multiply(sms.confint_proportions_2indep(\n",
    "                                                         len(slow[slow[\"APOE4\"]!=0]), len(slow),\n",
    "                                                         len(fast[fast[\"APOE4\"]!=0]), len(fast)), 100), 2))\n",
    "\n",
    "propS = len(slow[slow[\"PTGENDER_Male\"]!=0]) / len(slow)\n",
    "propF = len(fast[fast[\"PTGENDER_Male\"]!=0]) / len(fast)\n",
    "sumstats.loc[\"Slow\", \"Female\"] = np.round(len(slow[slow[\"PTGENDER_Male\"]==0]) / len(slow) *100, 2)\n",
    "sumstats.loc[\"Fast\", \"Female\"] = np.round(len(fast[fast[\"PTGENDER_Male\"]==0]) / len(fast) *100, 2)\n",
    "\n",
    "sumstats.loc[\"Difference [95% CI]\", \"Female\"] = f\"{np.round((propF-propS)*100, 2)} \" + str(np.round(np.multiply(sms.confint_proportions_2indep(\n",
    "                                                         len(slow[slow[\"PTGENDER_Male\"]!=0]), len(slow),\n",
    "                                                         len(fast[fast[\"PTGENDER_Male\"]!=0]), len(fast)), 100), 2))"
   ]
  },
  {
   "cell_type": "code",
   "execution_count": null,
   "id": "3f27e8c0-c0c0-4604-96c9-32c1d4f8cfb0",
   "metadata": {},
   "outputs": [],
   "source": [
    "for feat in num_feats:\n",
    "    sumstats.loc[\"p-value\", feat] = np.round(mannwhitneyu(slow[feat],fast[feat], nan_policy='omit').pvalue, 2)\n",
    "\n",
    "sumstats.loc[\"p-value\", \"Female\"] = np.round(chi2_contingency(pd.crosstab(adni[\"Cluster\"], adni[\"PTGENDER_Male\"]))[1], 2)\n",
    "sumstats.loc[\"p-value\", \"APOE4\"] = np.round(chi2_contingency(pd.crosstab(adni[\"Cluster\"], adni[\"APOE4\"]!=0))[1], 2)"
   ]
  },
  {
   "cell_type": "markdown",
   "id": "150f8f09-b54f-4373-bc17-7736ee76ec2c",
   "metadata": {},
   "source": [
    "## NACC"
   ]
  },
  {
   "cell_type": "code",
   "execution_count": null,
   "id": "4f5b1e81-dac0-4218-9bf5-163453ef543b",
   "metadata": {},
   "outputs": [],
   "source": [
    "n_labels = pd.read_csv(\"\", index_col=0).rename(columns={\"0\":\"Cluster\"})\n",
    "nacc = pd.read_csv(\"\", index_col=0)\n",
    "nacc = n_labels.join(nacc)"
   ]
  },
  {
   "cell_type": "code",
   "execution_count": null,
   "id": "5711704d-20f0-43ee-a923-abc6d21b0162",
   "metadata": {},
   "outputs": [],
   "source": [
    "nacc_stats = pd.DataFrame(index=[\"Slow\", \"Fast\"], columns=[\"N\"] + num_feats)\n",
    "fast = nacc[nacc[\"Cluster\"]==1][::]\n",
    "slow = nacc[nacc[\"Cluster\"]==2][::]\n",
    "\n",
    "# fill table\n",
    "nacc_stats.loc[\"Fast\", \"N\"] = fast.shape[0]\n",
    "nacc_stats.loc[\"Slow\", \"N\"] = slow.shape[0]\n",
    "\n",
    "nacc_stats.loc[\"Fast\", num_feats] = fast[num_feats].mean().round(2).map(str) + \" ± \" + fast[num_feats].std().round(2).map(str)\n",
    "nacc_stats.loc[\"Slow\", num_feats] = slow[num_feats].mean().round(2).map(str) + \" ± \" + slow[num_feats].std().round(2).map(str)\n",
    "\n",
    "# cats\n",
    "propS = len(slow[slow[\"APOE4\"]!=0]) / len(slow)\n",
    "propF = len(fast[fast[\"APOE4\"]!=0]) / len(fast)\n",
    "nacc_stats.loc[\"Slow\", \"APOE4\"] = np.round(len(slow[slow[\"APOE4\"]!=0]) / len(slow) *100, 2)\n",
    "nacc_stats.loc[\"Fast\", \"APOE4\"] = np.round(len(fast[fast[\"APOE4\"]!=0]) / len(fast) *100, 2)\n",
    "nacc_stats.loc[\"Difference [95% CI]\", \"APOE4\"] = f\"{np.round((propF-propS)*100, 2)} \" + str(np.round(np.multiply(sms.confint_proportions_2indep(\n",
    "                                                         len(slow[slow[\"APOE4\"]!=0]), len(slow),\n",
    "                                                         len(fast[fast[\"APOE4\"]!=0]), len(fast)), 100), 2))\n",
    "\n",
    "propS = len(slow[slow[\"PTGENDER_Male\"]!=0]) / len(slow)\n",
    "propF = len(fast[fast[\"PTGENDER_Male\"]!=0]) / len(fast)\n",
    "nacc_stats.loc[\"Slow\", \"Female\"] = np.round(len(slow[slow[\"PTGENDER_Male\"]==0]) / len(slow) *100, 2)\n",
    "nacc_stats.loc[\"Fast\", \"Female\"] = np.round(len(fast[fast[\"PTGENDER_Male\"]==0]) / len(fast) *100, 2)\n",
    "\n",
    "nacc_stats.loc[\"Difference [95% CI]\", \"Female\"] = f\"{np.round((propF-propS)*100, 2)} \" + str(np.round(np.multiply(sms.confint_proportions_2indep(\n",
    "                                                         len(slow[slow[\"PTGENDER_Male\"]!=0]), len(slow),\n",
    "                                                         len(fast[fast[\"PTGENDER_Male\"]!=0]), len(fast)), 100), 2))"
   ]
  },
  {
   "cell_type": "code",
   "execution_count": null,
   "id": "2b8aeffa-c0ed-43cd-ac7e-f544972d04da",
   "metadata": {},
   "outputs": [],
   "source": [
    "for feat in num_feats:\n",
    "    nacc_stats.loc[\"p-value\", feat] = np.round(mannwhitneyu(slow[feat],fast[feat], nan_policy='omit').pvalue, 2)\n",
    "\n",
    "nacc_stats.loc[\"p-value\", \"Female\"] = np.round(chi2_contingency(pd.crosstab(nacc[\"Cluster\"], nacc[\"PTGENDER_Male\"]))[1], 2)\n",
    "nacc_stats.loc[\"p-value\", \"APOE4\"] = np.round(chi2_contingency(pd.crosstab(nacc[\"Cluster\"], nacc[\"APOE4\"]!=0))[1], 2)"
   ]
  },
  {
   "cell_type": "markdown",
   "id": "79d9a298-7f1b-4b77-8329-dd96a5cfa0e7",
   "metadata": {},
   "source": [
    "### Difference in means CIs"
   ]
  },
  {
   "cell_type": "code",
   "execution_count": null,
   "id": "97f5a835-4b70-46d7-9611-fddfa66c20c9",
   "metadata": {},
   "outputs": [],
   "source": [
    "for cohort, name, table in zip([adni, nacc], [\"ADNI\", \"NACC\"], [sumstats, nacc_stats]):\n",
    "    for feat in num_feats:\n",
    "        a = sms.DescrStatsW(cohort.loc[cohort[\"Cluster\"]==2, feat].dropna())\n",
    "        b = sms.DescrStatsW(cohort.loc[cohort[\"Cluster\"]==1, feat].dropna())\n",
    "        diff = a.mean - b.mean\n",
    "        cm = sms.CompareMeans(b, a)\n",
    "        table.loc[\"Difference [95% CI]\", feat] = f\"{np.round(diff, 2)} {str(np.round(cm.tconfint_diff(), 2)).replace('  ', ', ')}\""
   ]
  },
  {
   "cell_type": "code",
   "execution_count": null,
   "id": "d83099a9-0c81-4109-985f-f10bdac2a919",
   "metadata": {},
   "outputs": [],
   "source": [
    "pd.concat([sumstats, nacc_stats]).to_csv(\"summary_stats.csv\")\n",
    "pd.concat([sumstats, nacc_stats])"
   ]
  },
  {
   "cell_type": "markdown",
   "id": "75374539-491b-4ddb-90d1-d5351954b206",
   "metadata": {
    "tags": []
   },
   "source": [
    "### Longitudinal Follow-up"
   ]
  },
  {
   "cell_type": "code",
   "execution_count": null,
   "id": "a29aa7a5-2e22-447d-9992-3c65f6b33c1b",
   "metadata": {},
   "outputs": [],
   "source": [
    "adni_file = \"\"\n",
    "adni_time = [\"0\", \"12\", \"24\", \"36\"]\n",
    "adni_files = ['cdrsb_norm.csv', 'mmse_norm.csv', 'faq_norm.csv']\n",
    "adni_data = [pd.read_csv(os.path.join(adni_file, csv), index_col=0) for csv in adni_files]"
   ]
  },
  {
   "cell_type": "code",
   "execution_count": null,
   "id": "bcb80d6a-3cf8-40dc-ab02-68219cdcce42",
   "metadata": {},
   "outputs": [],
   "source": [
    "nacc_file = \"\"\n",
    "nacc_time = [\"0\", \"1\", \"2\", \"3\"]\n",
    "nacc_files = ['cdr_ADNI_norm.csv', 'mmse_ADNI_norm.csv', 'faq_ADNI_norm.csv']\n",
    "nacc_data = [pd.read_csv(os.path.join(nacc_file, csv), index_col=0) for csv in nacc_files]"
   ]
  },
  {
   "cell_type": "code",
   "execution_count": null,
   "id": "190399d1-b789-48b7-97d9-7a7c17dbd558",
   "metadata": {
    "tags": []
   },
   "outputs": [],
   "source": [
    "f_up = {pat:0 for pat in adni_data[0].index}\n",
    "for a in adni_data:\n",
    "    a = a.transpose()\n",
    "    for pat in a.columns:\n",
    "        if a[pat].dropna().index.map(int).max() > f_up[pat]:\n",
    "            f_up[pat] = a[pat].dropna().index.map(int).max()"
   ]
  },
  {
   "cell_type": "code",
   "execution_count": null,
   "id": "a8a09ed7-c75e-43a7-88d4-34624db082ca",
   "metadata": {},
   "outputs": [],
   "source": [
    "print(\"ADNI median follow-up:\", np.median(list(f_up.values())))"
   ]
  },
  {
   "cell_type": "code",
   "execution_count": null,
   "id": "fb30337e-ae45-425c-b171-bbd5204d6af0",
   "metadata": {},
   "outputs": [],
   "source": [
    "f_up = {pat:0 for pat in nacc_data[0].index}\n",
    "for a in nacc_data:\n",
    "    a = a.transpose()\n",
    "    for pat in a.columns:\n",
    "        if a[pat].dropna().index.map(int).max() > f_up[pat]:\n",
    "            f_up[pat] = a[pat].dropna().index.map(int).max()"
   ]
  },
  {
   "cell_type": "code",
   "execution_count": null,
   "id": "357b9162-cab6-4e79-8688-5ecae2f7fc11",
   "metadata": {},
   "outputs": [],
   "source": [
    "print(\"NACC median follow-up:\", np.median(list(f_up.values())))"
   ]
  }
 ],
 "metadata": {
  "kernelspec": {
   "display_name": "Python 3 (ipykernel)",
   "language": "python",
   "name": "python3"
  },
  "language_info": {
   "codemirror_mode": {
    "name": "ipython",
    "version": 3
   },
   "file_extension": ".py",
   "mimetype": "text/x-python",
   "name": "python",
   "nbconvert_exporter": "python",
   "pygments_lexer": "ipython3",
   "version": "3.10.12"
  }
 },
 "nbformat": 4,
 "nbformat_minor": 5
}
