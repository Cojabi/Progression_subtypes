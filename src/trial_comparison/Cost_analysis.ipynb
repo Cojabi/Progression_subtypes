{
 "cells": [
  {
   "cell_type": "code",
   "execution_count": null,
   "id": "a677c87b-5ed3-4054-8f24-afbdc0df1e46",
   "metadata": {},
   "outputs": [],
   "source": [
    "import numpy as np\n",
    "import pandas as pd\n",
    "import locale\n",
    "locale.setlocale( locale.LC_ALL, '')\n",
    "locale.setlocale( locale.LC_ALL, 'en_US.UTF-8')"
   ]
  },
  {
   "cell_type": "markdown",
   "id": "53873a7c-7624-4ec7-9a49-8ef310b76b36",
   "metadata": {},
   "source": [
    "### Common predictor classifier"
   ]
  },
  {
   "cell_type": "code",
   "execution_count": null,
   "id": "5cbc62ad-b350-4e02-b31e-59529a174d77",
   "metadata": {},
   "outputs": [],
   "source": [
    "annual_treatment_costs = 26500      # taken from PMC10220264\n",
    "screening_costs = 6957                # taken from PMC8961406\n",
    "runtime = 2      # selected due to data constraints, lecanemab ran 18 months\n",
    "screened_pats = 5967                         # lecanemab trial\n",
    "patients = 1796                         # lecanemab trial\n",
    "sample_reduction = 0.368           # taken from power_calculation\n",
    "\n",
    "screening_rate = patients/screened_pats         # lecanemab trial\n",
    "additional_screening = screening_rate * (1 - 0.517)     # value taken from Plot_enrichment_curve\n",
    "\n",
    "adv_event_rate_lecanemab = 0.44\n",
    "adv_event_rate_placebo = 0.22\n",
    "ser_adv_event_rate_lecanemab = 0.14\n",
    "ser_adv_event_rate_placebo = 0.113"
   ]
  },
  {
   "cell_type": "code",
   "execution_count": null,
   "id": "6418bb23-6aec-47cd-896b-8c354fac7795",
   "metadata": {},
   "outputs": [],
   "source": [
    "treatment_costs = patients/2 * runtime * annual_treatment_costs\n",
    "print(f\"Conventional trial treatment costs: {locale.currency(treatment_costs, grouping=True)}\")"
   ]
  },
  {
   "cell_type": "code",
   "execution_count": null,
   "id": "9cec4e67-3ca9-42ea-961f-c6027f759802",
   "metadata": {},
   "outputs": [],
   "source": [
    "conventional_screening_costs = screened_pats * screening_costs\n",
    "print(f\"Conventional screening costs: {locale.currency(conventional_screening_costs, grouping=True)}\")"
   ]
  },
  {
   "cell_type": "code",
   "execution_count": null,
   "id": "af9b940f-4966-428a-a907-6cec3c297aca",
   "metadata": {},
   "outputs": [],
   "source": [
    "enrichment_sample_size = round(patients - patients * sample_reduction)\n",
    "print(f\"Patients reduced: {patients - enrichment_sample_size}\")\n",
    "print(f\"Enrichment sample size: {enrichment_sample_size}\")\n",
    "enrichment_treat_costs = enrichment_sample_size/2 * annual_treatment_costs * runtime\n",
    "print(f\"Enrichment treatment costs: {locale.currency(enrichment_treat_costs, grouping=True)}\")"
   ]
  },
  {
   "cell_type": "code",
   "execution_count": null,
   "id": "02d6f1a0-ba6d-4b5a-a27e-aaa5c2d31e35",
   "metadata": {},
   "outputs": [],
   "source": [
    "additional_screened_pats = round(screened_pats * additional_screening)\n",
    "enrichment_screened_pats = additional_screened_pats + screened_pats\n",
    "print(f\"Additionally screened patients: {additional_screened_pats} total: {enrichment_screened_pats}\")\n",
    "additional_screening_costs = additional_screened_pats * screening_costs\n",
    "enrichment_screening_costs = additional_screening_costs + conventional_screening_costs\n",
    "print(f\"Additional screening costs: {locale.currency(additional_screening_costs, grouping=True)}\")\n",
    "print(f\"Total screening costs: {locale.currency(enrichment_screening_costs, grouping=True)}\")"
   ]
  },
  {
   "cell_type": "markdown",
   "id": "84ea6ace-7af5-479f-bfb7-5e743f267709",
   "metadata": {},
   "source": [
    "### Adverse Events"
   ]
  },
  {
   "cell_type": "code",
   "execution_count": null,
   "id": "c4462f03-6663-4c52-bb66-7bcb8f4dec89",
   "metadata": {},
   "outputs": [],
   "source": [
    "ser_adv_events = round(patients/2 * ser_adv_event_rate_lecanemab + patients/2 * ser_adv_event_rate_placebo)\n",
    "ser_adv_events_enrich = round(enrichment_sample_size/2 * ser_adv_event_rate_lecanemab + enrichment_sample_size/2 * ser_adv_event_rate_placebo)\n",
    "diff_ser_adv_events = ser_adv_events - ser_adv_events_enrich\n",
    "print(f\"There are {diff_ser_adv_events} fewer serious adverse events when conducting an enrichment trial \\\n",
    "({ser_adv_events} versus {ser_adv_events_enrich}).\")"
   ]
  },
  {
   "cell_type": "code",
   "execution_count": null,
   "id": "b5906664-b56e-41c3-889a-0b84feed0d8b",
   "metadata": {},
   "outputs": [],
   "source": [
    "adv_events = round(patients/2 * adv_event_rate_lecanemab + patients/2 * adv_event_rate_placebo)\n",
    "adv_events_enrich = round(enrichment_sample_size/2 * adv_event_rate_lecanemab + enrichment_sample_size/2 * adv_event_rate_placebo)\n",
    "diff_adv_events = adv_events - adv_events_enrich\n",
    "print(f\"There are {diff_adv_events} fewer severe adverse events when conducting \\\n",
    "an enrichment trial ({adv_events} versus {adv_events_enrich}).\")"
   ]
  },
  {
   "cell_type": "code",
   "execution_count": null,
   "id": "83f11ae7-548c-47eb-9efa-bb3550f942e3",
   "metadata": {},
   "outputs": [],
   "source": [
    "ARIA_events = round(patients/2 * 0.215 + patients/2 * 0.095)\n",
    "ARIA_events_enrichment = round(enrichment_sample_size/2 * 0.215 + enrichment_sample_size/2 * 0.095)\n",
    "diff_ARIA_events = ARIA_events - ARIA_events_enrichment\n",
    "print(f\"{diff_ARIA_events} ARIA events less in an enrichment trial ({ARIA_events} versus {ARIA_events_enrichment})\")"
   ]
  },
  {
   "cell_type": "code",
   "execution_count": null,
   "id": "91ac85a9-6f5d-43b3-9f10-3fd687e4714f",
   "metadata": {},
   "outputs": [],
   "source": [
    "ARIA_doctor_costs = ARIA_events * 128 # doctor costs\n",
    "ARIA_mri_costs = ARIA_events * 353 * 4 # ARIA MRI costs for 4 months\n",
    "ARIA_costs = ARIA_doctor_costs + ARIA_mri_costs\n",
    "\n",
    "ARIA_doctor_enrich = ARIA_events_enrichment * 128 # doctor costs\n",
    "ARIA_mri_enrich = ARIA_events_enrichment * 353 * 4 # ARIA MRI costs\n",
    "ARIA_costs_enrich = ARIA_doctor_enrich + ARIA_mri_enrich\n",
    "print(f\"{locale.currency(ARIA_costs, grouping=True)} for conventional trial ARIA monitoring.\")\n",
    "print(f\"{locale.currency(ARIA_costs_enrich, grouping=True)} for enrichment trial ARIA monitoring.\")\n",
    "print(f\"{locale.currency(ARIA_costs - ARIA_costs_enrich, grouping=True)} savings\")"
   ]
  },
  {
   "cell_type": "markdown",
   "id": "eb7ac589-c4e2-4e03-ad88-e14d90c1fe4f",
   "metadata": {},
   "source": [
    "#### Total Costs"
   ]
  },
  {
   "cell_type": "code",
   "execution_count": null,
   "id": "f472f6fc-8dd0-4bb5-a462-67f25fde50d1",
   "metadata": {},
   "outputs": [],
   "source": [
    "conventional_trial_costs = treatment_costs + ARIA_costs + conventional_screening_costs\n",
    "locale.currency(conventional_trial_costs, grouping=True)"
   ]
  },
  {
   "cell_type": "code",
   "execution_count": null,
   "id": "51d51561-28b8-4256-b0d6-54a6b2389225",
   "metadata": {},
   "outputs": [],
   "source": [
    "enrichment_costs = enrichment_treat_costs + enrichment_screening_costs + ARIA_costs_enrich\n",
    "locale.currency(enrichment_costs, grouping=True)"
   ]
  }
 ],
 "metadata": {
  "kernelspec": {
   "display_name": "Python 3 (ipykernel)",
   "language": "python",
   "name": "python3"
  },
  "language_info": {
   "codemirror_mode": {
    "name": "ipython",
    "version": 3
   },
   "file_extension": ".py",
   "mimetype": "text/x-python",
   "name": "python",
   "nbconvert_exporter": "python",
   "pygments_lexer": "ipython3",
   "version": "3.10.12"
  }
 },
 "nbformat": 4,
 "nbformat_minor": 5
}
