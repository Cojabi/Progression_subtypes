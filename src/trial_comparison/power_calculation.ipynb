{
 "cells": [
  {
   "cell_type": "markdown",
   "id": "62221f61",
   "metadata": {},
   "source": [
    "Running the power calculations to determine the reduction in sample size."
   ]
  },
  {
   "cell_type": "code",
   "execution_count": null,
   "id": "ebcf0c23-c845-4d03-a192-9b689e060ab4",
   "metadata": {},
   "outputs": [],
   "source": [
    "import pandas as pd\n",
    "import numpy as np\n",
    "import glob\n",
    "import matplotlib.pyplot as plt\n",
    "from statsmodels.stats.power import TTestIndPower\n",
    "from scipy import stats\n",
    "from matplotlib.lines import Line2D"
   ]
  },
  {
   "cell_type": "code",
   "execution_count": null,
   "id": "5e3e4db8-e23c-4e45-aeb8-74e720345308",
   "metadata": {},
   "outputs": [],
   "source": [
    "## Global variables that are not passed to functions via arguments\n",
    "\n",
    "effect_type = \"%\"\n",
    "effect = 0.27\n",
    "\n",
    "time = \"24\"\n",
    "threshold = 0.5\n",
    "power = 0.9\n",
    "alpha = 0.05"
   ]
  },
  {
   "cell_type": "code",
   "execution_count": null,
   "id": "c3834076-c6d9-49e4-a25e-0b525e959897",
   "metadata": {},
   "outputs": [],
   "source": [
    "# load outcome data, absolute change in cdrsb\n",
    "cdrsb = pd.read_csv(\"\", index_col=0)[time]"
   ]
  },
  {
   "cell_type": "code",
   "execution_count": null,
   "id": "e144bc21-2aaa-48ca-a548-83ee03a1f425",
   "metadata": {},
   "outputs": [],
   "source": [
    "def mean_confidence_interval(data, confidence=0.95):\n",
    "    a = 1.0 * np.array(data)\n",
    "    n = len(a)\n",
    "    m, se = np.nanmean(a, 0), stats.sem(a, nan_policy=\"omit\")\n",
    "    h = se * stats.t.ppf((1 + confidence) / 2., n-1)\n",
    "    return m, m-h, m+h\n",
    "\n",
    "def plot_enrich_curve(axis, values, legend_label, color):\n",
    "    # plot fraction curve\n",
    "    axis.plot(values.columns, values.mean(), color=color, label=legend_label)\n",
    "    # plot CI\n",
    "    m, up, low = mean_confidence_interval(values, confidence=0.95)\n",
    "    axis.fill_between(values.columns, list(up), list(low), color=color, alpha=0.3)\n",
    "\n",
    "def calc_effect_size(t_arm, c_arm):\n",
    "    t_arm = t_arm.copy()\n",
    "    \n",
    "    #print(t_arm) #debug\n",
    "    \n",
    "    # % effect\n",
    "    if effect_type == \"%\":\n",
    "        # only change those with values >0, so leave out ppl that improved or didnt change\n",
    "        t_arm[t_arm>0] = t_arm[t_arm>0] - t_arm[t_arm>0] * effect\n",
    "    # static effect\n",
    "    else:\n",
    "        t_arm[t_arm>0] = t_arm[t_arm>0] - effect\n",
    "    cohens_d = (c_arm.mean() - t_arm.mean()) / np.sqrt((t_arm.std() + c_arm.std())/2)\n",
    "    return cohens_d"
   ]
  },
  {
   "cell_type": "code",
   "execution_count": null,
   "id": "74e98deb-cfe4-405a-b6e0-e23346cca0b6",
   "metadata": {},
   "outputs": [],
   "source": [
    "def n_reduction_curve(enrich_models, outcome_data, power, alpha):\n",
    "    reductions = dict()\n",
    "    n_store = dict()\n",
    "    n_slow_store = dict()\n",
    "    es_store = dict()\n",
    "    tresh = np.arange(0, 0.95, 0.05)\n",
    "    # get IDs of patients which have predictions, this shifted the line down\n",
    "    pred_ids = enrich_models[0].index\n",
    "    # create treatment and control arm, restrict on patients that have predictions\n",
    "    treat = outcome_data[pred_ids].dropna().copy()\n",
    "    control = outcome_data[pred_ids].dropna().copy()\n",
    "    d_full = calc_effect_size(treat, control)\n",
    "    analysis = TTestIndPower()\n",
    "\n",
    "    # iterate through repeats\n",
    "    for d in enrich_models:\n",
    "        for t in tresh:\n",
    "            # stratify  ## intersection because not all of our predicted patients have cdrsb (nan)\n",
    "            # plus not all with cdrsb have predictions\n",
    "            strat_ids = d.loc[d[\"0\"] > t].index.intersection(treat.index)\n",
    "            treat_strat = treat.loc[strat_ids].copy()\n",
    "            control_strat = control.loc[strat_ids].copy()\n",
    "            if treat_strat.shape[0] >= 3:\n",
    "                # calculate effect size\n",
    "                d_strat = calc_effect_size(treat_strat, control_strat)\n",
    "                # calculate sample size reduction\n",
    "                result_strat = analysis.solve_power(d_strat, power=power, nobs1=None, ratio=1.0, alpha=alpha)\n",
    "                result = analysis.solve_power(d_full, power=power, nobs1=None, ratio=1.0, alpha=alpha)\n",
    "                reduction = (1-(result_strat/result))*100\n",
    "            else:\n",
    "                reduction = np.nan\n",
    "            \n",
    "            # get N above threshold\n",
    "            n = treat_strat.shape[0]\n",
    "            n_slow = d.loc[treat_strat.index, \"Cluster\"].sum()\n",
    "            try: # exception to handle new thresholds from other repeat files\n",
    "                reductions[t].append(reduction)\n",
    "                n_store[t].append(n)\n",
    "                n_slow_store[t].append(n_slow)\n",
    "                es_store[t].append(d_strat)\n",
    "            except KeyError:\n",
    "                reductions[t] = [reduction]\n",
    "                n_store[t] = [n]\n",
    "                n_slow_store[t] = [n_slow]\n",
    "                es_store[t] = [d_strat]  \n",
    "    return reductions, n_store, n_slow_store, es_store"
   ]
  },
  {
   "cell_type": "markdown",
   "id": "96e7335d-ceaa-431c-89fb-fee3b5d98679",
   "metadata": {},
   "source": [
    "#### Multimodal"
   ]
  },
  {
   "cell_type": "code",
   "execution_count": null,
   "id": "8a26e893-7139-4da6-91a0-dc60dad933bd",
   "metadata": {},
   "outputs": [],
   "source": [
    "# get patients for enrichment and their scores\n",
    "files = glob.glob(\"\")\n",
    "data = [pd.read_csv(file, index_col=0).rename(columns={\"Score\":\"0\"}) for file in files]\n",
    "for df in data: # flip labels and probabilities to go for \"fast\"\n",
    "    df[\"0\"] = 1-df[\"0\"]\n",
    "    df[\"Cluster\"].replace({0:1, 1:0}, inplace=True)"
   ]
  },
  {
   "cell_type": "code",
   "execution_count": null,
   "id": "cfb95c02-8bef-49fd-9aa3-e78d35cd0f5c",
   "metadata": {
    "tags": []
   },
   "outputs": [],
   "source": [
    "s_red, n, n_fast, effects = n_reduction_curve(data, cdrsb, power, alpha)\n",
    "values = pd.DataFrame.from_dict(s_red, orient=\"index\")\n",
    "values_mm = values.sort_index().transpose()\n",
    "n_mm = pd.DataFrame.from_dict(n, orient=\"index\")\n",
    "n_mm = n_mm.sort_index().transpose()\n",
    "fast_mm = pd.DataFrame.from_dict(n_fast, orient=\"index\")\n",
    "fast_mm = fast_mm.sort_index().transpose()\n",
    "es_mm = pd.DataFrame.from_dict(effects, orient=\"index\")\n",
    "es_mm = es_mm.sort_index().transpose()"
   ]
  },
  {
   "cell_type": "markdown",
   "id": "403de0fb-fef8-4eed-aedb-7beeae07027b",
   "metadata": {},
   "source": [
    "#### Common"
   ]
  },
  {
   "cell_type": "code",
   "execution_count": null,
   "id": "0ee159e9-5f07-4080-9b11-4fb316c8cd18",
   "metadata": {},
   "outputs": [],
   "source": [
    "# create file names\n",
    "files = glob.glob(\"\")\n",
    "data = [pd.read_csv(file, index_col=0) for file in files]\n",
    "# the stuff below flips the labels such that the fast progressors are label=1\n",
    "for df in data:\n",
    "    df[\"0\"] = 1-df[\"0\"]\n",
    "    df[\"Cluster\"].replace({0:1, 1:0}, inplace=True)"
   ]
  },
  {
   "cell_type": "code",
   "execution_count": null,
   "id": "dcf7b3af-4ea5-4a46-99d2-f95c42a3c6c2",
   "metadata": {
    "tags": []
   },
   "outputs": [],
   "source": [
    "s_red, n, n_fast, effects = n_reduction_curve(data, cdrsb, power, alpha)\n",
    "values = pd.DataFrame.from_dict(s_red, orient=\"index\")\n",
    "values_cm = values.sort_index().transpose()\n",
    "n_cm = pd.DataFrame.from_dict(n, orient=\"index\")\n",
    "n_cm = n_cm.sort_index().transpose()\n",
    "fast_cm = pd.DataFrame.from_dict(n_fast, orient=\"index\")\n",
    "fast_cm = fast_cm.sort_index().transpose()\n",
    "es_cm = pd.DataFrame.from_dict(effects, orient=\"index\")\n",
    "es_cm = es_cm.sort_index().transpose()"
   ]
  },
  {
   "cell_type": "code",
   "execution_count": null,
   "id": "f1e579ba-5588-4298-a49c-9ed16f67c1c3",
   "metadata": {},
   "outputs": [],
   "source": [
    "fig, axes = plt.subplots(1, 1, figsize=(5, 5))\n",
    "\n",
    "plot_enrich_curve(axes, values_cm.drop(0.8500000000000001, axis=1), legend_label=\"'Common'\", color=\"#0D5C63\")\n",
    "\n",
    "# format plot\n",
    "axes.set_title(\"Power analysis\", loc=\"center\", weight=\"bold\", fontsize=12)\n",
    "axes.set_ylabel(\"Sample size reduction (%)\")\n",
    "axes.set_xlabel(\"Classifier threshold\")\n",
    "#axes.legend(loc=\"upper left\")\n",
    "\n",
    "plt.savefig(\"../Figures/power_curve.png\", dpi=350)"
   ]
  },
  {
   "cell_type": "code",
   "execution_count": null,
   "id": "87a574ef-3e40-4adf-9da6-cfdd90493527",
   "metadata": {},
   "outputs": [],
   "source": [
    "# check exact values / CIs for classifier thresholds\n",
    "m, up, low = mean_confidence_interval(values_mm, confidence=0.95)\n",
    "ci_mm = pd.DataFrame(values_mm.mean())\n",
    "ci_mm[\"Low\"] = low.data\n",
    "ci_mm[\"Up\"] = up.data\n",
    "ci_mm"
   ]
  },
  {
   "cell_type": "code",
   "execution_count": null,
   "id": "eeca5875-6d15-4f1e-ba1e-fbc18d7c8d96",
   "metadata": {},
   "outputs": [],
   "source": [
    "# check exact values / CIs for classifier thresholds\n",
    "m, up, low = mean_confidence_interval(values_cm, confidence=0.95)\n",
    "ci_cm = pd.DataFrame(values_cm.mean())\n",
    "ci_cm[\"Low\"] = low.data\n",
    "ci_cm[\"Up\"] = up.data\n",
    "ci_cm"
   ]
  }
 ],
 "metadata": {
  "kernelspec": {
   "display_name": "Python 3 (ipykernel)",
   "language": "python",
   "name": "python3"
  },
  "language_info": {
   "codemirror_mode": {
    "name": "ipython",
    "version": 3
   },
   "file_extension": ".py",
   "mimetype": "text/x-python",
   "name": "python",
   "nbconvert_exporter": "python",
   "pygments_lexer": "ipython3",
   "version": "3.10.12"
  }
 },
 "nbformat": 4,
 "nbformat_minor": 5
}
